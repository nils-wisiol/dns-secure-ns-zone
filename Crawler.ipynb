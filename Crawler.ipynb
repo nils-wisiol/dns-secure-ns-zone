{
 "cells": [
  {
   "cell_type": "code",
   "execution_count": null,
   "metadata": {},
   "outputs": [],
   "source": [
    "import logging\n",
    "\n",
    "import numpy as np\n",
    "import dns.message, dns.query, dns.rdataclass, dns.rdatatype, dns.flags, dns.exception, dns.name\n",
    "from tqdm import tqdm\n",
    "from tranco import Tranco\n",
    "import pandas as pd"
   ]
  },
  {
   "cell_type": "code",
   "execution_count": null,
   "metadata": {},
   "outputs": [],
   "source": [
    "t = Tranco(cache=True, cache_dir='.tranco')\n",
    "latest_list = t.list()"
   ]
  },
  {
   "cell_type": "code",
   "execution_count": null,
   "metadata": {},
   "outputs": [],
   "source": [
    "IN = dns.rdataclass.from_text(\"IN\")\n",
    "NS = dns.rdatatype.from_text(\"NS\")\n",
    "SOA = dns.rdatatype.from_text(\"SOA\")\n",
    "DS = dns.rdatatype.from_text(\"DS\")\n",
    "A = dns.rdatatype.from_text(\"A\")\n",
    "AAAA = dns.rdatatype.from_text(\"AAAA\")\n",
    "RRSIG = dns.rdatatype.from_text(\"RRSIG\")"
   ]
  },
  {
   "cell_type": "code",
   "execution_count": null,
   "metadata": {},
   "outputs": [],
   "source": [
    "def query(q):\n",
    "    logging.info(f'Query: {q.question[0].name} {dns.rdatatype.to_text(q.question[0].rdtype)}')\n",
    "    q.flags = q.flags | dns.flags.CD\n",
    "    try:\n",
    "        r = dns.query.udp(q, where='127.0.0.1', port=5301, timeout=5)\n",
    "    except dns.exception.Timeout:\n",
    "        r = dns.query.udp(q, where='127.0.0.1', port=5301, timeout=5)\n",
    "    logging.debug(f'Response Code: {r.rcode()}')\n",
    "    logging.debug(f'Response: \\n{r}')\n",
    "    if r.rcode() == 2:  # servfail\n",
    "        raise Exception(f\"SERVFAIL after asking {q.question[0].name} {dns.rdatatype.to_text(q.question[0].rdtype)}\")\n",
    "    return r\n",
    "\n",
    "def zone_soa(qname):\n",
    "    while True: # loop over qname parents to query for SOA\n",
    "        q = dns.message.make_query(qname, SOA, want_dnssec=True)\n",
    "        r = query(q)\n",
    "        if r.rcode() == 3:  # NXDOMAIN\n",
    "            return None\n",
    "        if r.rcode() != 0:\n",
    "            raise Exception(f\"zone_soa({qname}) query response code:{r.rcode()}\")\n",
    "        name = qname\n",
    "        while True: # loop over qname parents to find SOA record in DNS reply\n",
    "            rr = r.get_rrset(r.authority, name, IN, SOA) or r.get_rrset(r.answer, name, IN, SOA)\n",
    "            if rr:\n",
    "                return rr\n",
    "            logging.debug(f\"getting parent of name {name}\")\n",
    "            if name == dns.name.root:\n",
    "                break\n",
    "            name = name.parent()\n",
    "        logging.debug(f\"getting parent of qname {qname}\")\n",
    "        qname = qname.parent()\n",
    "\n",
    "def zone_name(qname):\n",
    "    soa = zone_soa(qname)\n",
    "    return soa.name if soa else None\n",
    "        "
   ]
  },
  {
   "cell_type": "code",
   "execution_count": null,
   "metadata": {},
   "outputs": [],
   "source": [
    "def zone_ns(qname):\n",
    "    q = dns.message.make_query(qname, NS, want_dnssec=True)\n",
    "    q.flags = q.flags | dns.flags.CD\n",
    "    r = query(q)\n",
    "    ns_set = r.get_rrset(r.answer, qname, IN, NS)\n",
    "    rrsig = r.get_rrset(r.answer, qname, IN, RRSIG, covers=NS)\n",
    "    ad = 'AD' in dns.flags.to_text(r.flags)\n",
    "    return ns_set or [], rrsig, ad"
   ]
  },
  {
   "cell_type": "code",
   "execution_count": null,
   "metadata": {},
   "outputs": [],
   "source": [
    "domains = latest_list.top(10**6)"
   ]
  },
  {
   "cell_type": "code",
   "execution_count": null,
   "metadata": {},
   "outputs": [],
   "source": [
    "def check_domain(d):\n",
    "    try:\n",
    "        d = dns.name.from_text(d)\n",
    "        z = zone_name(d)\n",
    "        \n",
    "        if z is None:\n",
    "            raise Exception(f\"Could not identify zone name for domain {d}\")\n",
    "        \n",
    "        ns_set, ns_rrsig, z_secure = zone_ns(z)\n",
    "        z_signed = ns_rrsig is not None\n",
    "\n",
    "        ns_exists_list = []\n",
    "        ns_signed_list = []\n",
    "        ns_secure_list = []\n",
    "        ns_soa_list = []\n",
    "        for ns in ns_set:\n",
    "            ns_exists = {}\n",
    "            ns_signed = {}\n",
    "            ns_secure = {}\n",
    "            \n",
    "            for rdtype in [A, AAAA]:\n",
    "                r = query(dns.message.make_query(ns.target, rdtype, want_dnssec=True))\n",
    "                rr_set = r.get_rrset(r.authority, ns.target, IN, rdtype) or r.get_rrset(r.answer, ns.target, IN, rdtype)\n",
    "                rrsig = r.get_rrset(r.authority, ns.target, IN, RRSIG, covers=rdtype) or r.get_rrset(r.answer, ns.target, IN, RRSIG, covers=rdtype)\n",
    "                ns_exists[rdtype] = rr_set is not None\n",
    "                ns_signed[rdtype] = ns_exists[rdtype] and rrsig is not None\n",
    "                ns_secure[rdtype] = ns_exists[rdtype] and 'AD' in dns.flags.to_text(r.flags)\n",
    "                if ns_secure[rdtype] and not ns_signed[rdtype]:\n",
    "                    raise Exception(f\"Found {ns.target}/{rdtype} to be secure but not signed\")\n",
    "                            \n",
    "            ns_exists_list.append(any(ns_exists.values()))\n",
    "            ns_signed_list.append(any(ns_signed.values()))\n",
    "            ns_secure_list.append(any(ns_secure.values()))\n",
    "            \n",
    "            ns_soa_list.append(zone_soa(ns.target))\n",
    "\n",
    "        return {\n",
    "            'domain': d.to_text(),\n",
    "            'zone': z.to_text(),\n",
    "            'signed': z_signed,\n",
    "            'secure': z_secure,\n",
    "            'ns_exists': np.mean(ns_exists_list),\n",
    "            'ns_signed': np.mean(ns_signed_list),\n",
    "            'ns_secure': np.mean(ns_secure_list),\n",
    "            'ns_num': len(ns_set),\n",
    "            'ns_names': [ns.target.to_text() for ns in ns_set],\n",
    "            'ns_soas': ns_soa_list,\n",
    "        }\n",
    "    except Exception as e:\n",
    "        e.d = d.to_text()\n",
    "        raise e"
   ]
  },
  {
   "cell_type": "code",
   "execution_count": null,
   "metadata": {},
   "outputs": [],
   "source": [
    "import concurrent\n",
    "\n",
    "executor = concurrent.futures.ThreadPoolExecutor(50)"
   ]
  },
  {
   "cell_type": "code",
   "execution_count": null,
   "metadata": {},
   "outputs": [],
   "source": [
    "def run_queries(domains):\n",
    "    errors = []\n",
    "    results = []    \n",
    "    futures = {d: executor.submit(check_domain, d) for d in tqdm(domains, desc=\"Scheduling queries\")}\n",
    "    with tqdm(total=len(futures), desc=\"Querying\") as pbar:\n",
    "        for future in concurrent.futures.as_completed(futures.values()):\n",
    "            pbar.update(1)\n",
    "            if future.exception():\n",
    "                logging.warning(f\"{future.exception().d}: {future.exception()}\")\n",
    "                errors.append(future.exception().d)\n",
    "            else:\n",
    "                results.append(future.result())\n",
    "    return results, errors"
   ]
  },
  {
   "cell_type": "code",
   "execution_count": null,
   "metadata": {},
   "outputs": [],
   "source": [
    "results, errors = run_queries(domains)"
   ]
  },
  {
   "cell_type": "code",
   "execution_count": null,
   "metadata": {},
   "outputs": [],
   "source": [
    "results_retry, errors_retry = run_queries(errors)"
   ]
  },
  {
   "cell_type": "code",
   "execution_count": null,
   "metadata": {},
   "outputs": [],
   "source": [
    "len(errors_retry) / len(domains)"
   ]
  },
  {
   "cell_type": "code",
   "execution_count": null,
   "metadata": {},
   "outputs": [],
   "source": [
    "data = pd.DataFrame(results + results_retry)\n",
    "data['tld'] = data.apply(lambda row: row['domain'].rsplit('.', 2)[-2], axis=1)\n",
    "data['bootstrapable'] = (data['ns_secure'] == 1) & ~data['secure']\n",
    "data['bootstrapable_weak'] = (data['ns_secure'] > 0) & ~data['secure']\n",
    "data['ns_secure_all'] = np.floor(data['ns_secure']) == 1\n",
    "data"
   ]
  },
  {
   "cell_type": "code",
   "execution_count": null,
   "metadata": {},
   "outputs": [],
   "source": [
    "data.to_pickle(f'tranco-{len(domains)}-data.pickle')"
   ]
  },
  {
   "cell_type": "markdown",
   "metadata": {},
   "source": [
    "# Debug"
   ]
  },
  {
   "cell_type": "code",
   "execution_count": null,
   "metadata": {},
   "outputs": [],
   "source": [
    "logging.basicConfig(level=logging.DEBUG, force=True)"
   ]
  },
  {
   "cell_type": "code",
   "execution_count": null,
   "metadata": {},
   "outputs": [],
   "source": [
    "check_domain(errors_retry[0])"
   ]
  },
  {
   "cell_type": "code",
   "execution_count": null,
   "metadata": {},
   "outputs": [],
   "source": []
  }
 ],
 "metadata": {
  "kernelspec": {
   "display_name": "Python 3",
   "language": "python",
   "name": "python3"
  },
  "language_info": {
   "codemirror_mode": {
    "name": "ipython",
    "version": 3
   },
   "file_extension": ".py",
   "mimetype": "text/x-python",
   "name": "python",
   "nbconvert_exporter": "python",
   "pygments_lexer": "ipython3",
   "version": "3.8.10"
  }
 },
 "nbformat": 4,
 "nbformat_minor": 4
}
